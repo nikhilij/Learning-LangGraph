{
 "cells": [
  {
   "cell_type": "code",
   "execution_count": 1,
   "id": "a32d48ee",
   "metadata": {},
   "outputs": [],
   "source": [
    "from typing import Dict, List, TypedDict\n",
    "from langgraph.graph import StateGraph, END\n",
    "import random"
   ]
  },
  {
   "cell_type": "code",
   "execution_count": 2,
   "id": "2dbc55b6",
   "metadata": {},
   "outputs": [],
   "source": [
    "class AgentState(TypedDict):\n",
    "    name: str\n",
    "    number: List[int]\n",
    "    counter: int"
   ]
  },
  {
   "cell_type": "code",
   "execution_count": null,
   "id": "fda8abe0",
   "metadata": {},
   "outputs": [],
   "source": []
  },
  {
   "cell_type": "code",
   "execution_count": 6,
   "id": "7171d057",
   "metadata": {},
   "outputs": [],
   "source": [
    "def greetingNode(state: AgentState) -> AgentState:\n",
    "    \"\"\"Greeting Node which says hi to the person\"\"\"\n",
    "    state[\"name\"] = f\"Hi there, {state['name']}\"\n",
    "    state['number'] = []  # Should be a list, not 0\n",
    "    return state\n",
    "\n",
    "def random_node(state: AgentState) -> AgentState:\n",
    "    \"\"\"Generates a random number from 1 to 10\"\"\"\n",
    "    state['number'].append(random.randint(1, 10))\n",
    "    state['counter'] += 1\n",
    "    return state\n",
    "\n",
    "def should_continue(state: AgentState) -> str:\n",
    "    \"\"\"Checks if the counter is less than 5\"\"\"\n",
    "    if state['counter'] < 5:\n",
    "        print(\"Entering loop\", state['counter'])\n",
    "        return \"loop\"\n",
    "    else:\n",
    "        return \"exit\""
   ]
  },
  {
   "cell_type": "code",
   "execution_count": 7,
   "id": "89bfecf9",
   "metadata": {},
   "outputs": [],
   "source": [
    "graph = StateGraph(AgentState)\n",
    "graph.add_node(\"greet\", greetingNode)\n",
    "graph.add_node(\"random\", random_node)\n",
    "graph.add_edge(\"greet\", \"random\")\n",
    "\n",
    "graph.add_conditional_edges(\n",
    "    \"random\",\n",
    "    should_continue,\n",
    "    {\n",
    "        \"loop\": \"random\",\n",
    "        \"exit\": END,\n",
    "    },\n",
    ")\n",
    "\n",
    "graph.set_entry_point(\"greet\")\n",
    "app = graph.compile()\n",
    "\n"
   ]
  },
  {
   "cell_type": "code",
   "execution_count": 8,
   "id": "6b07dc8b",
   "metadata": {},
   "outputs": [
    {
     "data": {
      "image/png": "[encoded data removed]",
      "text/plain": [
       "<IPython.core.display.Image object>"
      ]
     },
     "metadata": {},
     "output_type": "display_data"
    }
   ],
   "source": [
    "from IPython.display import Image, display\n",
    "display(Image(app.get_graph().draw_mermaid_png()))\n"
   ]
  },
  {
   "cell_type": "code",
   "execution_count": 13,
   "id": "216b1603",
   "metadata": {},
   "outputs": [
    {
     "name": "stdout",
     "output_type": "stream",
     "text": [
      "Entering loop -4\n",
      "Entering loop -3\n",
      "Entering loop -2\n",
      "Entering loop -1\n",
      "Entering loop 0\n",
      "Entering loop 1\n",
      "Entering loop 2\n",
      "Entering loop 3\n",
      "Entering loop 4\n"
     ]
    },
    {
     "data": {
      "text/plain": [
       "{'name': 'Hi there, Nikhil',\n",
       " 'number': [8, 1, 1, 9, 9, 4, 4, 10, 10, 5],\n",
       " 'counter': 5}"
      ]
     },
     "execution_count": 13,
     "metadata": {},
     "output_type": "execute_result"
    }
   ],
   "source": [
    "\n",
    "app.invoke({\"name\":\"Nikhil\",\"number\":[],\"counter\":-5})"
   ]
  }
 ],
 "metadata": {
  "kernelspec": {
   "display_name": "Python 3",
   "language": "python",
   "name": "python3"
  },
  "language_info": {
   "codemirror_mode": {
    "name": "ipython",
    "version": 3
   },
   "file_extension": ".py",
   "mimetype": "text/x-python",
   "name": "python",
   "nbconvert_exporter": "python",
   "pygments_lexer": "ipython3",
   "version": "3.13.2"
  }
 },
 "nbformat": 4,
 "nbformat_minor": 5
}
