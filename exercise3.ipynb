{
 "cells": [
  {
   "cell_type": "markdown",
   "id": "9be75ec2",
   "metadata": {},
   "source": [
    "# Exercise for Graph III\n",
    "\n",
    "Accept a user's name, age, and a list of their skills. Pass the state through three nodes:\n",
    "\n",
    "1) Personalize the name field with a greeting\n",
    "\n",
    "2) Describe the user's age\n",
    "\n",
    "3) List the user's skills in a formatted string\n",
    "\n",
    "The final output should be stored in `result` in the format:\n",
    "\"Linda, welcome to the system! You are 31 years old! You have skills in: Python, Machine Learning, and LangGraph\""
   ]
  },
  {
   "cell_type": "code",
   "execution_count": 47,
   "id": "34946fba",
   "metadata": {},
   "outputs": [],
   "source": [
    "from typing import TypedDict, List\n",
    "from langgraph.graph import StateGraph"
   ]
  },
  {
   "cell_type": "code",
   "execution_count": 48,
   "id": "03c1b055",
   "metadata": {},
   "outputs": [],
   "source": [
    "class UserState(TypedDict):\n",
    "    name: str\n",
    "    age: int\n",
    "    skills: List[str]\n",
    "    final: str"
   ]
  },
  {
   "cell_type": "code",
   "execution_count": 49,
   "id": "f8cc8809",
   "metadata": {},
   "outputs": [],
   "source": [
    "def name_node(state: UserState) -> UserState:\n",
    "    # Personalize the name with a greeting\n",
    "    state['final'] = f\"{state['name']}, welcome to the system! \"\n",
    "    return state"
   ]
  },
  {
   "cell_type": "code",
   "execution_count": 50,
   "id": "8403b0e7",
   "metadata": {},
   "outputs": [],
   "source": [
    "def age_node(state: UserState) -> UserState:\n",
    "    # Describe the user's age\n",
    "    state['final'] += f\"You are {state['age']} years old!\"\n",
    "    return state"
   ]
  },
  {
   "cell_type": "code",
   "execution_count": 51,
   "id": "4efce516",
   "metadata": {},
   "outputs": [],
   "source": [
    "def skills_node(state: UserState) -> UserState:\n",
    "    # Format skills: join with commas, with 'and' before last item\n",
    "    skills = state['skills']\n",
    "    if not skills:\n",
    "        skills_str = ''\n",
    "    elif len(skills) == 1:\n",
    "        skills_str = skills[0]\n",
    "    else:\n",
    "        skills_str = ', '.join(skills[:-1]) + ', and ' + skills[-1]\n",
    "    state['final'] += f\" You have skills in: {skills_str}\"\n",
    "    # Combine into final result field\n",
    "    state['final'] = ' '.join([state.get('final',' ')]).strip()\n",
    "    return state"
   ]
  },
  {
   "cell_type": "code",
   "execution_count": 52,
   "id": "71290e64",
   "metadata": {},
   "outputs": [
    {
     "name": "stdout",
     "output_type": "stream",
     "text": [
      "Linda, welcome to the system! You are 31 years old! You have skills in: Python, Machine Learning, and LangGraph\n"
     ]
    }
   ],
   "source": [
    "# Build the graph\n",
    "graph = StateGraph(UserState)\n",
    "graph.add_node('name', name_node)\n",
    "graph.add_node('age', age_node)\n",
    "graph.add_node('skills', skills_node)\n",
    "graph.set_entry_point('name')\n",
    "# chain: name -> age -> skills\n",
    "graph.add_edge('name', 'age')\n",
    "graph.add_edge('age', 'skills')\n",
    "graph.set_finish_point('skills')\n",
    "\n",
    "app = graph.compile()\n",
    "\n",
    "# Example invocation\n",
    "input_state = {'name': 'Linda', 'age': 31, 'skills': ['Python', 'Machine Learning', 'LangGraph'], 'part_name': '', 'part_age': '', 'part_skills': '', 'result': ''}\n",
    "result = app.invoke(input_state)\n",
    "print(result['final'])"
   ]
  }
 ],
 "metadata": {
  "kernelspec": {
   "display_name": "Python 3",
   "language": "python",
   "name": "python3"
  },
  "language_info": {
   "codemirror_mode": {
    "name": "ipython",
    "version": 3
   },
   "file_extension": ".py",
   "mimetype": "text/x-python",
   "name": "python",
   "nbconvert_exporter": "python",
   "pygments_lexer": "ipython3",
   "version": "3.12.1"
  }
 },
 "nbformat": 4,
 "nbformat_minor": 5
}
