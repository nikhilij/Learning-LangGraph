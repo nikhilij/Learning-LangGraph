{
 "cells": [
  {
   "cell_type": "markdown",
   "id": "5be102f5",
   "metadata": {},
   "source": [
    "# Exercise for Graph V: Automatic Higher or Lower Game\n",
    "This notebook implements an automatic higher/lower guessing game using a graph."
   ]
  },
  {
   "cell_type": "code",
   "execution_count": 26,
   "id": "70bbcbfc",
   "metadata": {},
   "outputs": [],
   "source": [
    "from typing import TypedDict, List,Dict\n",
    "from langgraph.graph import StateGraph, END\n",
    "import random"
   ]
  },
  {
   "cell_type": "code",
   "execution_count": 27,
   "id": "6495f636",
   "metadata": {},
   "outputs": [],
   "source": [
    "class GameState(TypedDict):\n",
    "    player_name: str\n",
    "    guesses: List[int]\n",
    "    attempts: int\n",
    "    lower_bound: int\n",
    "    upper_bound: int\n",
    "    answer: int\n",
    "    last_hint: str"
   ]
  },
  {
   "cell_type": "code",
   "execution_count": 28,
   "id": "81731f80",
   "metadata": {},
   "outputs": [],
   "source": [
    "def setup(state: GameState) -> GameState:\n",
    "    state['answer'] = random.randint(state['lower_bound'], state['upper_bound'])\n",
    "    state['guesses'] = []\n",
    "    state['attempts'] = 0\n",
    "    state['last_hint'] = ''\n",
    "    return state"
   ]
  },
  {
   "cell_type": "code",
   "execution_count": 29,
   "id": "f7aaf683",
   "metadata": {},
   "outputs": [],
   "source": [
    "def guess(state: GameState) -> GameState:\n",
    "    # Always guess the middle of the current bounds\n",
    "    guess_num = (state['lower_bound'] + state['upper_bound']) // 2\n",
    "    state['guesses'].append(guess_num)\n",
    "    state['attempts'] += 1\n",
    "    return state"
   ]
  },
  {
   "cell_type": "code",
   "execution_count": 30,
   "id": "dcf6f41c",
   "metadata": {},
   "outputs": [],
   "source": [
    "def hint_node(state: GameState) -> GameState:\n",
    "    last_guess = state['guesses'][-1]\n",
    "    if last_guess == state['answer']:\n",
    "        state['last_hint'] = 'correct'\n",
    "    elif last_guess < state['answer']:\n",
    "        state['last_hint'] = 'higher'\n",
    "        state['lower_bound'] = last_guess + 1\n",
    "    else:\n",
    "        state['last_hint'] = 'lower'\n",
    "        state['upper_bound'] = last_guess - 1\n",
    "    return state"
   ]
  },
  {
   "cell_type": "code",
   "execution_count": 31,
   "id": "e3389abb",
   "metadata": {},
   "outputs": [],
   "source": [
    "def should_continue(state: GameState) -> str:\n",
    "    if state['last_hint'] == 'correct':\n",
    "        print(f'Guessed correctly in {state['attempts']} attempts! Guesses: {state['guesses']}')\n",
    "        return 'stop'\n",
    "    elif state['attempts'] >= 7:\n",
    "        print(f'Max attempts reached. Answer was {state['answer']}. Guesses: {state['guesses']}')\n",
    "        return 'stop'\n",
    "    else:\n",
    "        return 'continue'"
   ]
  },
  {
   "cell_type": "code",
   "execution_count": 32,
   "id": "97e49e2a",
   "metadata": {},
   "outputs": [],
   "source": [
    "graph = StateGraph(GameState)\n",
    "graph.add_node('setup', setup)\n",
    "graph.add_node('guess', guess)\n",
    "graph.add_node('continue', hint_node)\n",
    "graph.add_edge('setup', 'guess')\n",
    "graph.add_edge('guess', 'continue')\n",
    "graph.add_conditional_edges('continue', should_continue, {\n",
    "    'continue': 'guess',\n",
    "    'stop': END,\n",
    "})\n",
    "graph.set_entry_point('setup')\n",
    "app = graph.compile()"
   ]
  },
  {
   "cell_type": "code",
   "execution_count": 33,
   "id": "fb47a382",
   "metadata": {},
   "outputs": [
    {
     "name": "stdout",
     "output_type": "stream",
     "text": [
      "Guessed correctly in 3 attempts! Guesses: [10, 15, 18]\n"
     ]
    },
    {
     "data": {
      "text/plain": [
       "{'player_name': 'Student',\n",
       " 'guesses': [10, 15, 18],\n",
       " 'attempts': 3,\n",
       " 'lower_bound': 16,\n",
       " 'upper_bound': 20,\n",
       " 'answer': 18,\n",
       " 'last_hint': 'correct'}"
      ]
     },
     "execution_count": 33,
     "metadata": {},
     "output_type": "execute_result"
    }
   ],
   "source": [
    "# Run the game\n",
    "initial_state = {\n",
    "    'player_name': 'Student',\n",
    "    'guesses': [],\n",
    "    'attempts': 0,\n",
    "    'lower_bound': 1,\n",
    "    'upper_bound': 20,\n",
    "    'answer': 0,\n",
    "    'last_hint': ''\n",
    "}\n",
    "app.invoke(initial_state)"
   ]
  },
  {
   "cell_type": "code",
   "execution_count": 34,
   "id": "0d795687",
   "metadata": {},
   "outputs": [
    {
     "data": {
      "image/png": "[encoded data removed]",
      "text/plain": [
       "<IPython.core.display.Image object>"
      ]
     },
     "metadata": {},
     "output_type": "display_data"
    }
   ],
   "source": [
    "from IPython.display import Image,display\n",
    "display(Image(app.get_graph().draw_mermaid_png()))"
   ]
  }
 ],
 "metadata": {
  "kernelspec": {
   "display_name": "Python 3",
   "language": "python",
   "name": "python3"
  },
  "language_info": {
   "codemirror_mode": {
    "name": "ipython",
    "version": 3
   },
   "file_extension": ".py",
   "mimetype": "text/x-python",
   "name": "python",
   "nbconvert_exporter": "python",
   "pygments_lexer": "ipython3",
   "version": "3.13.2"
  }
 },
 "nbformat": 4,
 "nbformat_minor": 5
}
