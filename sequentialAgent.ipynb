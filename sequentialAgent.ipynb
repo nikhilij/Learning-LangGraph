{
 "cells": [
  {
   "cell_type": "code",
   "execution_count": 1,
   "id": "d81bdd5f",
   "metadata": {},
   "outputs": [],
   "source": [
    "from typing import Dict, TypedDict\n",
    "from langgraph.graph import StateGraph"
   ]
  },
  {
   "cell_type": "code",
   "execution_count": 2,
   "id": "a1b7da9b",
   "metadata": {},
   "outputs": [],
   "source": [
    "class AgentState(TypedDict):\n",
    "    name: str\n",
    "    age: int\n",
    "    final: str  "
   ]
  },
  {
   "cell_type": "code",
   "execution_count": 3,
   "id": "5be2c77c",
   "metadata": {},
   "outputs": [],
   "source": [
    "def first_node(state: AgentState) -> AgentState:\n",
    "   state['final'] = f\"Hello, {state['name']}! \"\n",
    "   return state\n",
    "\n",
    "def second_node(state: AgentState) -> AgentState:\n",
    "   state['final'] += f\"You are {state['age']} years old.\"\n",
    "   return state"
   ]
  },
  {
   "cell_type": "code",
   "execution_count": 4,
   "id": "56414087",
   "metadata": {},
   "outputs": [
    {
     "data": {
      "image/png": "[encoded data removed]",
      "text/plain": [
       "<IPython.core.display.Image object>"
      ]
     },
     "metadata": {},
     "output_type": "display_data"
    }
   ],
   "source": [
    "graph = StateGraph(AgentState)\n",
    "graph.add_node(first_node)\n",
    "graph.add_node(second_node)\n",
    "graph.add_edge('first_node', 'second_node')\n",
    "graph.set_entry_point('first_node')\n",
    "graph.set_finish_point('second_node')\n",
    "\n",
    "app = graph.compile()\n",
    "\n",
    "from IPython.display import display, Image\n",
    "display(Image(app.get_graph().draw_mermaid_png()))"
   ]
  },
  {
   "cell_type": "code",
   "execution_count": 5,
   "id": "3c726c13",
   "metadata": {},
   "outputs": [
    {
     "name": "stdout",
     "output_type": "stream",
     "text": [
      "Hello, Alice! You are 30 years old.\n"
     ]
    }
   ],
   "source": [
    "result = app.invoke({\n",
    "    'name': \"Alice\",\n",
    "    'age': 30\n",
    "})\n",
    "\n",
    "print(result['final'])"
   ]
  }
 ],
 "metadata": {
  "kernelspec": {
   "display_name": "Python 3",
   "language": "python",
   "name": "python3"
  },
  "language_info": {
   "codemirror_mode": {
    "name": "ipython",
    "version": 3
   },
   "file_extension": ".py",
   "mimetype": "text/x-python",
   "name": "python",
   "nbconvert_exporter": "python",
   "pygments_lexer": "ipython3",
   "version": "3.12.1"
  }
 },
 "nbformat": 4,
 "nbformat_minor": 5
}
