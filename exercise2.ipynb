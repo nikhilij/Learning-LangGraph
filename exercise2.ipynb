{
 "cells": [
  {
   "cell_type": "code",
   "execution_count": 1,
   "id": "78d8bfc1",
   "metadata": {},
   "outputs": [],
   "source": [
    "from typing import Dict, TypedDict\n",
    "from langgraph.graph import StateGraph"
   ]
  },
  {
   "cell_type": "code",
   "execution_count": 3,
   "id": "adc0e79e",
   "metadata": {},
   "outputs": [],
   "source": [
    "class AgentState(TypedDict):\n",
    "    name: str\n",
    "    values: list[int]\n",
    "    operation: str\n",
    "    result: str"
   ]
  },
  {
   "cell_type": "code",
   "execution_count": 4,
   "id": "ea398eaa",
   "metadata": {},
   "outputs": [],
   "source": [
    "def evaluate(state: AgentState) -> AgentState:\n",
    "    \"\"\"this function handles multiple different inputs\"\"\"\n",
    "    if state['operation'] == '+':\n",
    "        state['result'] = f'Hi there {state[\"name\"]}, the sum of your values is {sum(state[\"values\"])}'\n",
    "    elif state['operation'] == '*':\n",
    "        product = 1\n",
    "        for v in state['values']:\n",
    "            product *= v\n",
    "        state['result'] = f'Hi there {state[\"name\"]}, the product of your values is {product}'\n",
    "    else:\n",
    "        state['result'] = f'Hi there {state[\"name\"]}, unknown operation {state[\"operation\"]}'\n",
    "    return state"
   ]
  },
  {
   "cell_type": "code",
   "execution_count": 7,
   "id": "d6c4cf4d",
   "metadata": {},
   "outputs": [
    {
     "data": {
      "image/png": "[encoded data removed]",
      "text/plain": [
       "<IPython.core.display.Image object>"
      ]
     },
     "metadata": {},
     "output_type": "display_data"
    }
   ],
   "source": [
    "graph = StateGraph(AgentState)\n",
    "graph.add_node('evaluator',evaluate)\n",
    "graph.set_entry_point('evaluator')\n",
    "graph.set_finish_point('evaluator')\n",
    "\n",
    "app = graph.compile()\n",
    "\n",
    "from IPython.display import display, Image\n",
    "display(Image(app.get_graph().draw_mermaid_png()))"
   ]
  },
  {
   "cell_type": "code",
   "execution_count": 8,
   "id": "fe9fdfe4",
   "metadata": {},
   "outputs": [
    {
     "name": "stdout",
     "output_type": "stream",
     "text": [
      "Hi there Jack Sparrow, the product of your values is 24\n"
     ]
    }
   ],
   "source": [
    "result = app.invoke({\n",
    "    'name': \"Jack Sparrow\",\n",
    "    'values': [1,2,3,4],\n",
    "    'operation': '*'\n",
    "})\n",
    "\n",
    "print(result['result'])"
   ]
  },
  {
   "cell_type": "code",
   "execution_count": null,
   "id": "93fd3258",
   "metadata": {},
   "outputs": [],
   "source": []
  }
 ],
 "metadata": {
  "kernelspec": {
   "display_name": "Python 3",
   "language": "python",
   "name": "python3"
  },
  "language_info": {
   "codemirror_mode": {
    "name": "ipython",
    "version": 3
   },
   "file_extension": ".py",
   "mimetype": "text/x-python",
   "name": "python",
   "nbconvert_exporter": "python",
   "pygments_lexer": "ipython3",
   "version": "3.12.1"
  }
 },
 "nbformat": 4,
 "nbformat_minor": 5
}
