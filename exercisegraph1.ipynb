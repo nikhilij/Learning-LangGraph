{
 "cells": [
  {
   "cell_type": "markdown",
   "id": "c32304af",
   "metadata": {},
   "source": [
    "# Personalized Compliment Agent Assignment\n",
    "Create a Personalized Compliment Agent using LangGraph.\n",
    "Input: {\"name\": \"Bob\"}\n",
    "Output: \"Bob, you're doing an amazing job learning LangGraph!\"\n",
    "Hint: You have to concatenate the state, not replace it!"
   ]
  },
  {
   "cell_type": "code",
   "execution_count": 1,
   "id": "84952349",
   "metadata": {},
   "outputs": [],
   "source": [
    "from typing import TypedDict\n",
    "from langgraph.graph import StateGraph"
   ]
  },
  {
   "cell_type": "code",
   "execution_count": 2,
   "id": "59f3cd14",
   "metadata": {},
   "outputs": [],
   "source": [
    "class ComplimentState(TypedDict):\n",
    "    name: str\n",
    "    compliment: str = ''"
   ]
  },
  {
   "cell_type": "code",
   "execution_count": 3,
   "id": "fbc5150b",
   "metadata": {},
   "outputs": [],
   "source": [
    "def compliment_node(state: ComplimentState) -> ComplimentState:\n",
    "    # Concatenate the compliment, do not replace the state\n",
    "    state['compliment'] = f\"{state['name']}, you're doing an amazing job learning LangGraph!\"\n",
    "    return state"
   ]
  },
  {
   "cell_type": "code",
   "execution_count": 4,
   "id": "cf399b62",
   "metadata": {},
   "outputs": [
    {
     "name": "stdout",
     "output_type": "stream",
     "text": [
      "Bob, you're doing an amazing job learning LangGraph!\n"
     ]
    }
   ],
   "source": [
    "graph = StateGraph(ComplimentState)\n",
    "graph.add_node('complimenter', compliment_node)\n",
    "graph.set_entry_point('complimenter')\n",
    "graph.set_finish_point('complimenter')\n",
    "\n",
    "app = graph.compile()\n",
    "\n",
    "result = app.invoke({'name': 'Bob'})\n",
    "\n",
    "print(result['compliment'])"
   ]
  }
 ],
 "metadata": {
  "kernelspec": {
   "display_name": "Python 3",
   "language": "python",
   "name": "python3"
  },
  "language_info": {
   "codemirror_mode": {
    "name": "ipython",
    "version": 3
   },
   "file_extension": ".py",
   "mimetype": "text/x-python",
   "name": "python",
   "nbconvert_exporter": "python",
   "pygments_lexer": "ipython3",
   "version": "3.12.1"
  }
 },
 "nbformat": 4,
 "nbformat_minor": 5
}
